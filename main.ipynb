{
 "cells": [
  {
   "cell_type": "code",
   "execution_count": 19,
   "metadata": {},
   "outputs": [],
   "source": [
    "import pandas as pd\n",
    "import time\n",
    "\n",
    "from selenium import webdriver\n",
    "from selenium.webdriver.common.by import By\n",
    "from selenium.webdriver.common.keys import Keys\n",
    "from selenium.webdriver.chrome.service import Service\n",
    "from webdriver_manager.firefox import GeckoDriverManager"
   ]
  },
  {
   "cell_type": "code",
   "execution_count": 2,
   "metadata": {},
   "outputs": [],
   "source": [
    "search_place = 'Campinas'"
   ]
  },
  {
   "cell_type": "code",
   "execution_count": 3,
   "metadata": {},
   "outputs": [],
   "source": [
    "dict_add_type = {\n",
    "    0: 'Compra',\n",
    "    1: 'Aluguel',\n",
    "    2: 'Imóvel Novo',\n",
    "}"
   ]
  },
  {
   "cell_type": "code",
   "execution_count": 4,
   "metadata": {},
   "outputs": [],
   "source": [
    "# add_type = 0\n",
    "# add_type = 1\n",
    "add_type = 2"
   ]
  },
  {
   "cell_type": "code",
   "execution_count": 5,
   "metadata": {},
   "outputs": [
    {
     "name": "stderr",
     "output_type": "stream",
     "text": [
      "[WDM] - Downloading: 16.2kB [00:00, 7.22MB/s]                   \n"
     ]
    }
   ],
   "source": [
    "# driver = webdriver.Firefox(executable_path = GeckoDriverManager().install())\n",
    "driver = webdriver.Firefox(service = Service(GeckoDriverManager().install()))"
   ]
  },
  {
   "cell_type": "code",
   "execution_count": 6,
   "metadata": {},
   "outputs": [],
   "source": [
    "driver.get('https://www.vivareal.com.br/')"
   ]
  },
  {
   "cell_type": "code",
   "execution_count": 7,
   "metadata": {},
   "outputs": [],
   "source": [
    "driver.find_element(By.CLASS_NAME, 'cookie-notifier__cta').click()"
   ]
  },
  {
   "cell_type": "code",
   "execution_count": 8,
   "metadata": {},
   "outputs": [],
   "source": [
    "driver \\\n",
    "    .find_element(By.CLASS_NAME, 'js-select-business') \\\n",
    "    .find_elements(By.CLASS_NAME, 'item')[add_type].click()"
   ]
  },
  {
   "cell_type": "code",
   "execution_count": 9,
   "metadata": {},
   "outputs": [],
   "source": [
    "driver.find_element(By.CLASS_NAME, 'js-select-type').find_elements(By.TAG_NAME, 'option')[0].click()"
   ]
  },
  {
   "cell_type": "code",
   "execution_count": 10,
   "metadata": {},
   "outputs": [],
   "source": [
    "driver.find_element(By.ID, 'filter-location-search-input').send_keys(search_place)"
   ]
  },
  {
   "cell_type": "code",
   "execution_count": 13,
   "metadata": {},
   "outputs": [],
   "source": [
    "time.sleep(2)\n",
    "\n",
    "driver \\\n",
    "    .find_element(By.CLASS_NAME, 'autocomplete__list') \\\n",
    "    .find_elements(By.CLASS_NAME, 'autocomplete__item')[0].click()"
   ]
  },
  {
   "cell_type": "code",
   "execution_count": 14,
   "metadata": {},
   "outputs": [],
   "source": [
    "def get_data(page_number):\n",
    "    time.sleep(5)\n",
    "    page_data = []\n",
    "    has_suggestions = 0\n",
    "\n",
    "    results = driver \\\n",
    "        .find_element(By.CLASS_NAME, 'results-list') \\\n",
    "        .find_elements(By.XPATH, './div')\n",
    "\n",
    "    for item in results:\n",
    "        if(item.get_attribute('data-type') == 'nearby'):\n",
    "            has_suggestions = 1\n",
    "            break\n",
    "        elif item.get_attribute('data-type') != 'property':\n",
    "            pass\n",
    "        else:\n",
    "            card = item.find_element(By.TAG_NAME, 'article')\n",
    "            address = card.find_element(By.CLASS_NAME, 'property-card__address').text\n",
    "\n",
    "            area = card \\\n",
    "                .find_element(By.CLASS_NAME, 'property-card__detail-area') \\\n",
    "                .find_element(By.CLASS_NAME, 'property-card__detail-value').text\n",
    "\n",
    "            try:\n",
    "                status = card.find_element(By.CLASS_NAME, 'property-card__construction-status').text\n",
    "            except:\n",
    "                status = '-'\n",
    "\n",
    "            price = card \\\n",
    "                .find_element(By.CLASS_NAME, 'property-card__values') \\\n",
    "                .find_element(By.CLASS_NAME, 'property-card__price').text\n",
    "\n",
    "            link = card \\\n",
    "               .find_element(By.CLASS_NAME, 'property-card__content-link').get_attribute('href')\n",
    "            code = link.split('-')[-1][:-1]\n",
    "\n",
    "            page_data.append([dict_add_type[add_type], address, area, price, status, code])\n",
    "\n",
    "    return page_data, has_suggestions"
   ]
  },
  {
   "cell_type": "code",
   "execution_count": 15,
   "metadata": {},
   "outputs": [
    {
     "name": "stdout",
     "output_type": "stream",
     "text": [
      "Scraping page 1...\n",
      "Scraping page 2...\n",
      "Scraping page 3...\n",
      "Scraping page 4...\n",
      "Scraping page 5...\n",
      "Scraping page 6...\n",
      "Done.\n"
     ]
    }
   ],
   "source": [
    "results = []\n",
    "page_number = 1\n",
    "    \n",
    "while True:\n",
    "    print(f\"Scraping page {page_number}...\", end = '\\n')\n",
    "    page_data, has_sugestions = get_data(page_number)\n",
    "    results.append(page_data)\n",
    "    \n",
    "    if(has_sugestions == 1):\n",
    "        break\n",
    "    else:\n",
    "        btn_next_page = driver.find_elements(By.CLASS_NAME, 'js-change-page')[-1]\n",
    "\n",
    "        if not btn_next_page.get_attribute('data-page'):\n",
    "            break\n",
    "        else:\n",
    "            page_number += 1\n",
    "            btn_next_page.click()\n",
    "\n",
    "print('Done.')"
   ]
  },
  {
   "cell_type": "code",
   "execution_count": 16,
   "metadata": {},
   "outputs": [],
   "source": [
    "results = [item for page_data in results for item in page_data]"
   ]
  },
  {
   "cell_type": "code",
   "execution_count": 17,
   "metadata": {},
   "outputs": [],
   "source": [
    "driver.quit()"
   ]
  },
  {
   "cell_type": "code",
   "execution_count": 20,
   "metadata": {},
   "outputs": [],
   "source": [
    "df = pd.DataFrame(\n",
    "    data = results,\n",
    "    columns = ['Tipo', 'Endereço', 'Área', 'Preço', 'Etiqueta', 'Código Viva Real']\n",
    ")"
   ]
  },
  {
   "cell_type": "code",
   "execution_count": 21,
   "metadata": {},
   "outputs": [],
   "source": [
    "df = df.replace('\\n',' ', regex = True)"
   ]
  },
  {
   "cell_type": "code",
   "execution_count": 22,
   "metadata": {},
   "outputs": [],
   "source": [
    "df.to_csv(f\"outputs/{search_place} - {dict_add_type[add_type]}.csv\", encoding = 'utf-8', index = False)"
   ]
  }
 ],
 "metadata": {
  "kernelspec": {
   "display_name": "Python 3.10.4 ('.env': venv)",
   "language": "python",
   "name": "python3"
  },
  "language_info": {
   "codemirror_mode": {
    "name": "ipython",
    "version": 3
   },
   "file_extension": ".py",
   "mimetype": "text/x-python",
   "name": "python",
   "nbconvert_exporter": "python",
   "pygments_lexer": "ipython3",
   "version": "3.10.4"
  },
  "vscode": {
   "interpreter": {
    "hash": "b99f8e7b982c9cb99975e93b9b3f4ddfa91a7cdf70562b36a552763c7cce8825"
   }
  }
 },
 "nbformat": 4,
 "nbformat_minor": 4
}
