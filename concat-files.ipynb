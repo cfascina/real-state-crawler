{
 "cells": [
  {
   "cell_type": "code",
   "execution_count": 1,
   "id": "885845ea-aaf1-4fde-8411-84be21e362fa",
   "metadata": {},
   "outputs": [],
   "source": [
    "import glob\n",
    "import os\n",
    "import pandas as pd"
   ]
  },
  {
   "cell_type": "code",
   "execution_count": 2,
   "id": "eea00b88-d242-488b-a84a-7f539a87be03",
   "metadata": {},
   "outputs": [],
   "source": [
    "folder = f\"{os.getcwd()}/outputs/sao-paulo\""
   ]
  },
  {
   "cell_type": "code",
   "execution_count": 3,
   "id": "d678fa2f-cfca-4a73-bb33-6c3472859900",
   "metadata": {},
   "outputs": [],
   "source": [
    "targets = os.path.join(f\"{folder}\", \"*.csv\")"
   ]
  },
  {
   "cell_type": "code",
   "execution_count": 4,
   "id": "1e037542-10bf-4dd0-8b82-f3e9442ff3d3",
   "metadata": {},
   "outputs": [],
   "source": [
    "files = glob.glob(targets)"
   ]
  },
  {
   "cell_type": "code",
   "execution_count": 5,
   "id": "7477ad01-5168-42be-aaa7-c8b78b8f916c",
   "metadata": {},
   "outputs": [],
   "source": [
    "df = pd.concat(map(pd.read_csv, files), ignore_index = True)"
   ]
  },
  {
   "cell_type": "code",
   "execution_count": 7,
   "id": "9689c102-ed20-4528-90ef-842cd9e94588",
   "metadata": {},
   "outputs": [],
   "source": [
    "df.to_csv(f\"{folder}/_merge.csv\", index = False)"
   ]
  }
 ],
 "metadata": {
  "kernelspec": {
   "display_name": "Python 3",
   "language": "python",
   "name": "python3"
  },
  "language_info": {
   "codemirror_mode": {
    "name": "ipython",
    "version": 3
   },
   "file_extension": ".py",
   "mimetype": "text/x-python",
   "name": "python",
   "nbconvert_exporter": "python",
   "pygments_lexer": "ipython3",
   "version": "3.8.8"
  }
 },
 "nbformat": 4,
 "nbformat_minor": 5
}
